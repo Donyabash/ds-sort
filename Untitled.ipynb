{
 "cells": [
  {
   "cell_type": "code",
   "execution_count": 26,
   "id": "2be9d604",
   "metadata": {},
   "outputs": [
    {
     "name": "stdout",
     "output_type": "stream",
     "text": [
      "[10, 19, 7, 9, 1, 2, 50]\n",
      "[10, 7, 19, 9, 1, 2, 50]\n",
      "[10, 7, 9, 19, 1, 2, 50]\n",
      "[10, 7, 9, 1, 19, 2, 50]\n",
      "[10, 7, 9, 1, 2, 19, 50]\n",
      "[7, 7, 9, 1, 2, 19, 50]\n",
      "[7, 7, 1, 7, 2, 19, 50]\n",
      "[7, 7, 1, 2, 7, 19, 50]\n",
      "[7, 1, 1, 2, 7, 19, 50]\n",
      "[1, 2, 1, 2, 7, 19, 50]\n",
      "[1, 1, 2, 2, 7, 19, 50]\n"
     ]
    }
   ],
   "source": [
    "array = [19 , 10 , 7 , 9 , 1 , 2 , 50]\n",
    "j = 0\n",
    "for i in range(len(array)):\n",
    "    key = array[i]\n",
    "    for j in range(len(array)-i-1):\n",
    "        if array[j] > array[j+1]:\n",
    "            array[j] = array[j+1]\n",
    "            array[j+1] = key\n",
    "            print(array)"
   ]
  },
  {
   "cell_type": "code",
   "execution_count": null,
   "id": "67fdcd4f",
   "metadata": {},
   "outputs": [],
   "source": []
  },
  {
   "cell_type": "code",
   "execution_count": null,
   "id": "99fa3713",
   "metadata": {},
   "outputs": [],
   "source": []
  },
  {
   "cell_type": "code",
   "execution_count": null,
   "id": "699701d2",
   "metadata": {},
   "outputs": [],
   "source": []
  },
  {
   "cell_type": "code",
   "execution_count": null,
   "id": "50036236",
   "metadata": {},
   "outputs": [],
   "source": []
  },
  {
   "cell_type": "code",
   "execution_count": null,
   "id": "a885d4cb",
   "metadata": {},
   "outputs": [],
   "source": []
  }
 ],
 "metadata": {
  "kernelspec": {
   "display_name": "Python 3 (ipykernel)",
   "language": "python",
   "name": "python3"
  },
  "language_info": {
   "codemirror_mode": {
    "name": "ipython",
    "version": 3
   },
   "file_extension": ".py",
   "mimetype": "text/x-python",
   "name": "python",
   "nbconvert_exporter": "python",
   "pygments_lexer": "ipython3",
   "version": "3.10.12"
  }
 },
 "nbformat": 4,
 "nbformat_minor": 5
}
