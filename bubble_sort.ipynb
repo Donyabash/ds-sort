{
 "cells": [
  {
   "cell_type": "code",
   "execution_count": 11,
   "metadata": {},
   "outputs": [
    {
     "name": "stdout",
     "output_type": "stream",
     "text": [
      "[1, 1, 14, 13, 66, 12, 19, 17]\n",
      "[1, 1, 14, 13, 66, 12, 19, 17]\n",
      "[1, 1, 13, 14, 66, 12, 19, 17]\n",
      "[1, 1, 13, 14, 66, 12, 19, 17]\n",
      "[1, 1, 13, 14, 12, 66, 19, 17]\n",
      "[1, 1, 13, 14, 12, 19, 66, 17]\n",
      "[1, 1, 13, 14, 12, 19, 17, 66]\n",
      "[1, 1, 13, 14, 12, 19, 17]\n",
      "[1, 1, 13, 14, 12, 19, 17]\n",
      "[1, 1, 13, 14, 12, 19, 17]\n",
      "[1, 1, 13, 12, 14, 19, 17]\n",
      "[1, 1, 13, 12, 14, 19, 17]\n",
      "[1, 1, 13, 12, 14, 17, 19]\n",
      "[1, 1, 13, 12, 14, 17]\n",
      "[1, 1, 13, 12, 14, 17]\n",
      "[1, 1, 12, 13, 14, 17]\n",
      "[1, 1, 12, 13, 14, 17]\n",
      "[1, 1, 12, 13, 14, 17]\n",
      "[1, 1, 12, 13, 14]\n",
      "[1, 1, 12, 13, 14]\n",
      "[1, 1, 12, 13, 14]\n",
      "[1, 1, 12, 13, 14]\n",
      "stop\n",
      "[1, 1, 12, 13]\n",
      "[1, 1, 12, 13]\n",
      "[1, 1, 12, 13]\n",
      "stop\n",
      "[1, 1, 12]\n",
      "[1, 1, 12]\n",
      "stop\n",
      "[1, 1]\n",
      "stop\n"
     ]
    }
   ],
   "source": [
    "array = [ 1 , 1 , 14 , 13 , 66 , 12 ,19 , 17]\n",
    "n = 8\n",
    "\n",
    "\n",
    "for i in range(n-1):\n",
    "\n",
    "    flag = False\n",
    "\n",
    "    for j in range(1 , n-i , 1):\n",
    "\n",
    "        if array[j-1] > array[j]:\n",
    "            flag = True\n",
    "            array[j] , array[j-1 ] = array[j-1] , array[j]\n",
    "            print(array[:n-i])\n",
    "        else:\n",
    "            j += 1\n",
    "            print(array[:n-i])\n",
    "\n",
    "    if flag == False :\n",
    "        print(\"stop\")\n",
    "        break\n",
    "    \n",
    "        \n",
    "        \n",
    "\n"
   ]
  }
 ],
 "metadata": {
  "kernelspec": {
   "display_name": "Python 3",
   "language": "python",
   "name": "python3"
  },
  "language_info": {
   "codemirror_mode": {
    "name": "ipython",
    "version": 3
   },
   "file_extension": ".py",
   "mimetype": "text/x-python",
   "name": "python",
   "nbconvert_exporter": "python",
   "pygments_lexer": "ipython3",
   "version": "3.10.12"
  },
  "orig_nbformat": 4
 },
 "nbformat": 4,
 "nbformat_minor": 2
}
