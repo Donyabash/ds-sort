{
 "cells": [
  {
   "cell_type": "code",
   "execution_count": 136,
   "id": "1af63260",
   "metadata": {},
   "outputs": [
    {
     "name": "stdout",
     "output_type": "stream",
     "text": [
      "[2, 4, 3, 1, 3, 2, 3, 2, 1, 1, 2, 4, 5, 6, 10] \n",
      "\n",
      "[3, 4, 3, 2, 1, 1, 0, 0, 0, 1] \n",
      "\n",
      "[3, 7, 10, 12, 13, 14, 14, 14, 14, 15] \n",
      "\n"
     ]
    }
   ],
   "source": [
    "array_1 = [2, 4, 3, 1, 3, 2 ,3, 2, 1 ,1, 2, 4 , 5, 6 , 10]\n",
    "array_2 = [0] * max(array_1)\n",
    "array_3 = [0]*15\n",
    "\n",
    "print(array_1 , \"\\n\")\n",
    "\n",
    "for i in array_1:\n",
    "    array_2[i-1] += 1\n",
    "\n",
    "print(array_2 , \"\\n\")\n",
    "\n",
    "for i in range(1 , len(array_2)):\n",
    "    array_2[i] += array_2[i-1]\n",
    "\n",
    "print(array_2 , \"\\n\")\n",
    "\n",
    "\n",
    " \n",
    "    \n",
    "\n",
    "\n",
    "\n",
    "\n"
   ]
  },
  {
   "cell_type": "code",
   "execution_count": 137,
   "id": "3f49fb9e",
   "metadata": {},
   "outputs": [
    {
     "data": {
      "text/plain": [
       "[1, 1, 1, 2, 2, 2, 2, 3, 3, 3, 4, 4, 5, 6, 10]"
      ]
     },
     "execution_count": 137,
     "metadata": {},
     "output_type": "execute_result"
    }
   ],
   "source": [
    "for i in range(len( array_1)):\n",
    "    a = array_2[array_1[-i-1]-1]\n",
    "    array_3[a-1] = array_1[-i-1]\n",
    "    array_2[array_1[-i-1]-1] -= 1\n",
    "\n",
    "array_3\n",
    "    "
   ]
  }
 ],
 "metadata": {
  "kernelspec": {
   "display_name": "Python 3 (ipykernel)",
   "language": "python",
   "name": "python3"
  },
  "language_info": {
   "codemirror_mode": {
    "name": "ipython",
    "version": 3
   },
   "file_extension": ".py",
   "mimetype": "text/x-python",
   "name": "python",
   "nbconvert_exporter": "python",
   "pygments_lexer": "ipython3",
   "version": "3.10.12"
  }
 },
 "nbformat": 4,
 "nbformat_minor": 5
}
