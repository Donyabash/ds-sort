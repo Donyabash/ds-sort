{
 "cells": [
  {
   "cell_type": "code",
   "execution_count": null,
   "id": "565ecf75",
   "metadata": {},
   "outputs": [],
   "source": [
    "class Node:\n",
    "    def __init__(self , data):\n",
    "        self.data = data\n",
    "        self.next = None\n",
    "\n",
    "\n",
    "class SLL:\n",
    "    def __init__(self):\n",
    "        self.first = None\n",
    "        self.last = None\n",
    "\n",
    "    def insert_first(self,data):\n",
    "\n",
    "        node = Node(data)\n",
    "        if self.first == None:\n",
    "            self.first = node\n",
    "            self.last = node\n",
    "            return\n",
    "        \n",
    "        self.first.next = self.first\n",
    "        self.first = node\n",
    "\n",
    "\n",
    "    def insert_last(self,data):\n",
    "        node = Node(data)\n",
    "        if self.first == None:\n",
    "            self.first = node\n",
    "            self.last = node\n",
    "            return\n",
    "        \n",
    "        self.last.next = node\n",
    "        self.last = node\n",
    "\n",
    "    \n",
    "\n",
    "\n",
    "        \n",
    "        \n"
   ]
  }
 ],
 "metadata": {
  "kernelspec": {
   "display_name": "Python 3 (ipykernel)",
   "language": "python",
   "name": "python3"
  },
  "language_info": {
   "codemirror_mode": {
    "name": "ipython",
    "version": 3
   },
   "file_extension": ".py",
   "mimetype": "text/x-python",
   "name": "python",
   "nbconvert_exporter": "python",
   "pygments_lexer": "ipython3",
   "version": "3.10.12"
  }
 },
 "nbformat": 4,
 "nbformat_minor": 5
}
